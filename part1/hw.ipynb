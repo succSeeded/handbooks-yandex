{
 "cells": [
  {
   "cell_type": "code",
   "execution_count": 1,
   "id": "14810e5e-933b-4b68-a7fa-a8c91c5d421f",
   "metadata": {},
   "outputs": [],
   "source": [
    "import jupyter_black\n",
    "\n",
    "jupyter_black.load()"
   ]
  },
  {
   "cell_type": "code",
   "execution_count": 2,
   "id": "34e60176-555e-4f57-9340-7756b241382b",
   "metadata": {},
   "outputs": [],
   "source": [
    "import numpy as np\n",
    "import pandas as pd\n",
    "import matplotlib.pyplot as plt\n",
    "import sklearn\n",
    "\n",
    "%matplotlib inline\n",
    "\n",
    "from sklearn.model_selection import train_test_split"
   ]
  },
  {
   "cell_type": "code",
   "execution_count": 3,
   "id": "a034469b-fe06-47e0-add8-c0ca00b57973",
   "metadata": {},
   "outputs": [],
   "source": [
    "def construct_matrix(x, y):\n",
    "    return np.hstack([x.reshape((x.shape[0], 1)), y.reshape(y.shape[0], 1)])"
   ]
  },
  {
   "cell_type": "code",
   "execution_count": 4,
   "id": "d39d1ac7-a4a1-48cf-90a7-c09c21210d30",
   "metadata": {},
   "outputs": [],
   "source": [
    "x = np.array([1, 3, 5, 7])\n",
    "y = np.array([2, 4, 6, 8])"
   ]
  },
  {
   "cell_type": "code",
   "execution_count": 5,
   "id": "4d9a6ba9-2f4d-4f97-b6b1-57903a29224b",
   "metadata": {},
   "outputs": [
    {
     "data": {
      "text/plain": [
       "array([[1, 2],\n",
       "       [3, 4],\n",
       "       [5, 6],\n",
       "       [7, 8]])"
      ]
     },
     "execution_count": 5,
     "metadata": {},
     "output_type": "execute_result"
    }
   ],
   "source": [
    "construct_matrix(x, y)"
   ]
  },
  {
   "cell_type": "code",
   "execution_count": 6,
   "id": "d9208334-df48-4378-943c-286ff9c1b6dd",
   "metadata": {},
   "outputs": [
    {
     "data": {
      "text/plain": [
       "array([[1, 3],\n",
       "       [2, 4]])"
      ]
     },
     "execution_count": 6,
     "metadata": {},
     "output_type": "execute_result"
    }
   ],
   "source": [
    "construct_matrix(np.array([1, 2]), np.array([3, 4]))"
   ]
  },
  {
   "cell_type": "markdown",
   "id": "55663c66-5221-4588-9724-9c07748d16e1",
   "metadata": {},
   "source": [
    "**2.** Реализуйте функцию, принимающую на вход массив целых неотрицательных чисел `nums` и возвращающую самый частый элемент массива."
   ]
  },
  {
   "cell_type": "code",
   "execution_count": 6,
   "id": "1c29495f-352b-47a7-96a7-12299f819556",
   "metadata": {},
   "outputs": [],
   "source": [
    "def most_frequent(nums):\n",
    "    \"\"\"\n",
    "    Find the most frequent value in an array\n",
    "    :param nums: array of ints\n",
    "    :return: the most frequent value\n",
    "    \"\"\"\n",
    "    uniques = np.unique(np.array(nums), return_counts=True)\n",
    "    return uniques[0][np.argmax(uniques[1])]"
   ]
  },
  {
   "cell_type": "code",
   "execution_count": 7,
   "id": "0b3f012a-dc29-4542-b761-fc3feff5ee1e",
   "metadata": {},
   "outputs": [],
   "source": [
    "nums = [1, 2, 4, 6, 2, 1, 1, 3, 5, 2, 8, 5, 6, 6]"
   ]
  },
  {
   "cell_type": "code",
   "execution_count": 8,
   "id": "45974fd9-de6f-43a8-a7dc-bbdcb6106c4b",
   "metadata": {},
   "outputs": [
    {
     "data": {
      "text/plain": [
       "1"
      ]
     },
     "execution_count": 8,
     "metadata": {},
     "output_type": "execute_result"
    }
   ],
   "source": [
    "most_frequent(nums)"
   ]
  },
  {
   "cell_type": "code",
   "execution_count": 95,
   "id": "688a3ec9-5785-465a-a875-cb5972a43038",
   "metadata": {},
   "outputs": [],
   "source": [
    "import platform\n",
    "\n",
    "if platform.system() == \"Windows\":\n",
    "    tables = \"data\\\\\"\n",
    "else:\n",
    "    tables = \"data/\""
   ]
  },
  {
   "cell_type": "code",
   "execution_count": 103,
   "id": "b6d20abb-eaad-4dde-b5c6-e22b608532ce",
   "metadata": {},
   "outputs": [],
   "source": [
    "data = pd.read_csv(tables + \"organisations.csv\")\n",
    "features = pd.read_csv(tables + \"features.csv\")\n",
    "rubrics = pd.read_csv(tables + \"rubrics.csv\")"
   ]
  },
  {
   "cell_type": "code",
   "execution_count": 5,
   "id": "83100d8d-0674-465f-bf35-5c1be774aff4",
   "metadata": {},
   "outputs": [
    {
     "data": {
      "text/html": [
       "<div>\n",
       "<style scoped>\n",
       "    .dataframe tbody tr th:only-of-type {\n",
       "        vertical-align: middle;\n",
       "    }\n",
       "\n",
       "    .dataframe tbody tr th {\n",
       "        vertical-align: top;\n",
       "    }\n",
       "\n",
       "    .dataframe thead th {\n",
       "        text-align: right;\n",
       "    }\n",
       "</style>\n",
       "<table border=\"1\" class=\"dataframe\">\n",
       "  <thead>\n",
       "    <tr style=\"text-align: right;\">\n",
       "      <th></th>\n",
       "      <th>org_id</th>\n",
       "      <th>city</th>\n",
       "      <th>average_bill</th>\n",
       "      <th>rating</th>\n",
       "      <th>rubrics_id</th>\n",
       "      <th>features_id</th>\n",
       "    </tr>\n",
       "  </thead>\n",
       "  <tbody>\n",
       "    <tr>\n",
       "      <th>0</th>\n",
       "      <td>15903868628669802651</td>\n",
       "      <td>msk</td>\n",
       "      <td>1500.0</td>\n",
       "      <td>4.270968</td>\n",
       "      <td>30776 30774</td>\n",
       "      <td>3501685156 3501779478 20422 3502045016 3502045...</td>\n",
       "    </tr>\n",
       "    <tr>\n",
       "      <th>1</th>\n",
       "      <td>16076540698036998306</td>\n",
       "      <td>msk</td>\n",
       "      <td>500.0</td>\n",
       "      <td>4.375000</td>\n",
       "      <td>30771</td>\n",
       "      <td>1509 1082283206 273469383 10462 11617 35017794...</td>\n",
       "    </tr>\n",
       "    <tr>\n",
       "      <th>2</th>\n",
       "      <td>8129364761615040323</td>\n",
       "      <td>msk</td>\n",
       "      <td>500.0</td>\n",
       "      <td>4.000000</td>\n",
       "      <td>31495</td>\n",
       "      <td>10462 11177 11617 11629 1416 1018 11704 11867 ...</td>\n",
       "    </tr>\n",
       "    <tr>\n",
       "      <th>3</th>\n",
       "      <td>15262729117594253452</td>\n",
       "      <td>msk</td>\n",
       "      <td>500.0</td>\n",
       "      <td>4.538813</td>\n",
       "      <td>30776 30770</td>\n",
       "      <td>3501618484 2020795524 11629 11617 1018 11704 2...</td>\n",
       "    </tr>\n",
       "    <tr>\n",
       "      <th>4</th>\n",
       "      <td>13418544315327784420</td>\n",
       "      <td>msk</td>\n",
       "      <td>500.0</td>\n",
       "      <td>4.409091</td>\n",
       "      <td>31495</td>\n",
       "      <td>11617 10462 11177 1416 11867 3501744275 20282 ...</td>\n",
       "    </tr>\n",
       "  </tbody>\n",
       "</table>\n",
       "</div>"
      ],
      "text/plain": [
       "                 org_id city  average_bill    rating   rubrics_id  \\\n",
       "0  15903868628669802651  msk        1500.0  4.270968  30776 30774   \n",
       "1  16076540698036998306  msk         500.0  4.375000        30771   \n",
       "2   8129364761615040323  msk         500.0  4.000000        31495   \n",
       "3  15262729117594253452  msk         500.0  4.538813  30776 30770   \n",
       "4  13418544315327784420  msk         500.0  4.409091        31495   \n",
       "\n",
       "                                         features_id  \n",
       "0  3501685156 3501779478 20422 3502045016 3502045...  \n",
       "1  1509 1082283206 273469383 10462 11617 35017794...  \n",
       "2  10462 11177 11617 11629 1416 1018 11704 11867 ...  \n",
       "3  3501618484 2020795524 11629 11617 1018 11704 2...  \n",
       "4  11617 10462 11177 1416 11867 3501744275 20282 ...  "
      ]
     },
     "execution_count": 5,
     "metadata": {},
     "output_type": "execute_result"
    }
   ],
   "source": [
    "data.head()"
   ]
  },
  {
   "cell_type": "code",
   "execution_count": 7,
   "id": "2a869fa3-66b5-4be4-b376-022b865f71f3",
   "metadata": {},
   "outputs": [
    {
     "data": {
      "text/plain": [
       "{30519: 'Булочная, пекарня',\n",
       " 30770: 'Бар, паб',\n",
       " 30771: 'Быстрое питание',\n",
       " 30774: 'Кафе',\n",
       " 30775: 'Пиццерия',\n",
       " 30776: 'Ресторан',\n",
       " 30777: 'Столовая',\n",
       " 31286: 'Спортбар',\n",
       " 31350: 'Кондитерская',\n",
       " 31375: 'Суши-бар',\n",
       " 31401: 'Кальян-бар',\n",
       " 31495: 'Кофейня',\n",
       " 3108292683: 'Бар безалкогольных напитков',\n",
       " 3501514558: 'Фудкорт',\n",
       " 3501750896: 'Кофе с собой'}"
      ]
     },
     "execution_count": 7,
     "metadata": {},
     "output_type": "execute_result"
    }
   ],
   "source": [
    "rubrics_dict = dict(zip(rubrics[\"rubric_id\"], rubrics[\"rubric_name\"]))\n",
    "rubrics_dict"
   ]
  },
  {
   "cell_type": "code",
   "execution_count": 18,
   "id": "a2822e51-56c1-4846-acda-ee10566c29dc",
   "metadata": {},
   "outputs": [
    {
     "name": "stdout",
     "output_type": "stream",
     "text": [
      "35561 32778\n"
     ]
    }
   ],
   "source": [
    "print(\n",
    "    data.isna().value_counts(subset=[\"average_bill\"])[True],\n",
    "    data.isna().value_counts(subset=[\"average_bill\"])[False],\n",
    ")\n",
    "# data.dropna(subset=['average_bill'])"
   ]
  },
  {
   "cell_type": "code",
   "execution_count": 104,
   "id": "274964c8-d3a3-416e-8b1a-d9a2c958c14b",
   "metadata": {},
   "outputs": [],
   "source": [
    "data.dropna(subset=[\"average_bill\"], inplace=True)\n",
    "data = data[data.average_bill <= 2500]"
   ]
  },
  {
   "cell_type": "code",
   "execution_count": 11,
   "id": "4ec8ab88-305d-4431-9b43-7072d24f78cc",
   "metadata": {},
   "outputs": [],
   "source": [
    "data[[\"rubrics_id\", \"features_id\"]] = data[[\"rubrics_id\", \"features_id\"]].map(\n",
    "    lambda x: x.split(\" \")\n",
    ")"
   ]
  },
  {
   "cell_type": "code",
   "execution_count": 13,
   "id": "3955e716-01b1-407e-82ec-1f3b0779dc95",
   "metadata": {},
   "outputs": [
    {
     "data": {
      "text/plain": [
       "142.0"
      ]
     },
     "execution_count": 13,
     "metadata": {},
     "output_type": "execute_result"
    }
   ],
   "source": [
    "mask_cafe = data[\"rubrics_id\"].map(lambda x: \"30774\" in x)\n",
    "\n",
    "np.round(\n",
    "    data[mask_cafe & (data.city == \"msk\")][\"average_bill\"].mean()\n",
    "    - data[mask_cafe & (data.city == \"spb\")][\"average_bill\"].mean()\n",
    ")"
   ]
  },
  {
   "cell_type": "code",
   "execution_count": 27,
   "id": "3d192312-fbe3-47d4-99fe-ecb9adbd0766",
   "metadata": {},
   "outputs": [
    {
     "name": "stdout",
     "output_type": "stream",
     "text": [
      "4.2 4.304347826086956 4.325581395348837 4.378125217028961 4.415954415954416\n"
     ]
    }
   ],
   "source": [
    "bilrating = data.dropna(subset=\"rating\")[[\"average_bill\", \"rating\"]]\n",
    "print(\n",
    "    bilrating[bilrating.average_bill == 500][\"rating\"].median(),\n",
    "    bilrating[bilrating.average_bill == 1000][\"rating\"].median(),\n",
    "    bilrating[bilrating.average_bill == 1500][\"rating\"].median(),\n",
    "    bilrating[bilrating.average_bill == 2000][\"rating\"].median(),\n",
    "    bilrating[bilrating.average_bill == 2500][\"rating\"].median(),\n",
    ")"
   ]
  },
  {
   "cell_type": "code",
   "execution_count": 29,
   "id": "c650fe99-2e48-477a-82d4-d9a6016a9349",
   "metadata": {},
   "outputs": [
    {
     "data": {
      "text/plain": [
       "82.0"
      ]
     },
     "execution_count": 29,
     "metadata": {},
     "output_type": "execute_result"
    }
   ],
   "source": [
    "mask_pub = data[\"rubrics_id\"].map(lambda x: \"30770\" in x)\n",
    "\n",
    "np.round(data[mask_pub][\"average_bill\"].mean() - data[mask_cafe][\"average_bill\"].mean())"
   ]
  },
  {
   "cell_type": "code",
   "execution_count": 169,
   "id": "2b50b50e-603c-42d9-8c64-e4c38b596b4c",
   "metadata": {},
   "outputs": [],
   "source": [
    "clean_data_train, clean_data_test = train_test_split(\n",
    "    data, stratify=data[\"average_bill\"], test_size=0.33, random_state=42\n",
    ")"
   ]
  },
  {
   "cell_type": "code",
   "execution_count": 9,
   "id": "811ab455-0db8-45ec-8697-16961484818c",
   "metadata": {},
   "outputs": [
    {
     "data": {
      "text/plain": [
       "10605"
      ]
     },
     "execution_count": 9,
     "metadata": {},
     "output_type": "execute_result"
    }
   ],
   "source": [
    "clean_data_test.shape[0]"
   ]
  },
  {
   "cell_type": "code",
   "execution_count": 196,
   "id": "c1193d98-a6b8-46e7-a346-c2427c771da0",
   "metadata": {},
   "outputs": [],
   "source": [
    "from sklearn.base import RegressorMixin\n",
    "\n",
    "\n",
    "class MeanRegressor(RegressorMixin):\n",
    "    # Predicts the mean of y_train\n",
    "    def fit(self, X=None, y=None):\n",
    "        \"\"\"\n",
    "        Parameters\n",
    "        ----------\n",
    "        X : array like, shape = (n_samples, n_features)\n",
    "        Training data features\n",
    "        y : array like, shape = (n_samples,)\n",
    "        Training data targets\n",
    "        \"\"\"\n",
    "        self.mean = y.mean()\n",
    "\n",
    "    def predict(self, X=None):\n",
    "        \"\"\"\n",
    "        Parameters\n",
    "        ----------\n",
    "        X : array like, shape = (n_samples, n_features)\n",
    "        Data to predict\n",
    "        \"\"\"\n",
    "        return self.mean * np.ones((X.shape[0], 1))"
   ]
  },
  {
   "cell_type": "code",
   "execution_count": 209,
   "id": "2a37f3a5-16cc-4a80-ae4d-c93353b4a5fd",
   "metadata": {},
   "outputs": [],
   "source": [
    "from scipy.stats import mode\n",
    "from sklearn.base import ClassifierMixin\n",
    "\n",
    "\n",
    "class MostFrequentClassifier(ClassifierMixin):\n",
    "    # Predicts the rounded (just in case) median of y_train\n",
    "    def fit(self, X=None, y=None):\n",
    "        \"\"\"\n",
    "        Parameters\n",
    "        ----------\n",
    "        X : array like, shape = (n_samples, n_features)\n",
    "        Training data features\n",
    "        y : array like, shape = (n_samples,)\n",
    "        Training data targets\n",
    "        \"\"\"\n",
    "        self.mostFrequent = mode(y)[0]\n",
    "\n",
    "    def predict(self, X=None):\n",
    "        \"\"\"\n",
    "        Parameters\n",
    "        ----------\n",
    "        X : array like, shape = (n_samples, n_features)\n",
    "        Data to predict\n",
    "        \"\"\"\n",
    "        return self.mostFrequent * np.ones((X.shape[0],))"
   ]
  },
  {
   "cell_type": "code",
   "execution_count": 210,
   "id": "ac5e7205-74ba-4b89-8c62-fd7e149114a9",
   "metadata": {},
   "outputs": [],
   "source": [
    "reg = MeanRegressor()\n",
    "reg.fit(y=clean_data_train[\"average_bill\"])"
   ]
  },
  {
   "cell_type": "code",
   "execution_count": 211,
   "id": "f4bef053-c750-4f5c-9f95-725f6506028f",
   "metadata": {},
   "outputs": [],
   "source": [
    "clf = MostFrequentClassifier()\n",
    "clf.fit(y=clean_data_train[\"average_bill\"])"
   ]
  },
  {
   "cell_type": "code",
   "execution_count": 93,
   "id": "a1c45ace-4ede-4450-991e-3a42468f0fba",
   "metadata": {},
   "outputs": [
    {
     "data": {
      "text/plain": [
       "752.1016209186754"
      ]
     },
     "execution_count": 93,
     "metadata": {},
     "output_type": "execute_result"
    }
   ],
   "source": [
    "reg.mean"
   ]
  },
  {
   "cell_type": "code",
   "execution_count": 94,
   "id": "119f49b6-743c-4287-9684-949ac108888b",
   "metadata": {},
   "outputs": [
    {
     "data": {
      "text/plain": [
       "500.0"
      ]
     },
     "execution_count": 94,
     "metadata": {},
     "output_type": "execute_result"
    }
   ],
   "source": [
    "clf.mostFrequent"
   ]
  },
  {
   "cell_type": "code",
   "execution_count": 191,
   "id": "5314ded0-8f7d-42b3-b348-0ef17cf583b1",
   "metadata": {},
   "outputs": [],
   "source": [
    "def RMSE(data_test, model, target_test=\"average_bill\"):\n",
    "    return np.sqrt(\n",
    "        sklearn.metrics.mean_squared_error(\n",
    "            data_test[target_test], model.predict(data_test)\n",
    "        )\n",
    "    )"
   ]
  },
  {
   "cell_type": "code",
   "execution_count": 96,
   "id": "e560156e-0877-4063-9094-c54a945c1aaa",
   "metadata": {},
   "outputs": [
    {
     "name": "stdout",
     "output_type": "stream",
     "text": [
      "448.7143889551622\n"
     ]
    }
   ],
   "source": [
    "print(RMSE(clean_data_test, reg, target_test=\"average_bill\"))"
   ]
  },
  {
   "cell_type": "code",
   "execution_count": 212,
   "id": "5689663d-e4b1-4d46-8ca1-056200878e71",
   "metadata": {},
   "outputs": [
    {
     "data": {
      "text/plain": [
       "array([1000.,  500.,  500., ..., 2000.,  500.,  500.])"
      ]
     },
     "execution_count": 212,
     "metadata": {},
     "output_type": "execute_result"
    }
   ],
   "source": [
    "clean_data_test[\"average_bill\"].values"
   ]
  },
  {
   "cell_type": "code",
   "execution_count": 213,
   "id": "a1e12fd9-89a2-4964-b3f8-a5eb8b6cdb3d",
   "metadata": {},
   "outputs": [
    {
     "data": {
      "text/plain": [
       "array([500., 500., 500., ..., 500., 500., 500.])"
      ]
     },
     "execution_count": 213,
     "metadata": {},
     "output_type": "execute_result"
    }
   ],
   "source": [
    "clf.predict(clean_data_test)"
   ]
  },
  {
   "cell_type": "code",
   "execution_count": 214,
   "id": "9c34fd5d-83f5-4273-b571-a57e76f0b23d",
   "metadata": {},
   "outputs": [
    {
     "data": {
      "text/plain": [
       "0.2"
      ]
     },
     "execution_count": 214,
     "metadata": {},
     "output_type": "execute_result"
    }
   ],
   "source": [
    "sklearn.metrics.balanced_accuracy_score(\n",
    "    clean_data_test[\"average_bill\"].values, clf.predict(clean_data_test)\n",
    ")"
   ]
  },
  {
   "cell_type": "code",
   "execution_count": 98,
   "id": "a10e856c-2ce9-4ab9-b57c-5814ad68ff96",
   "metadata": {},
   "outputs": [],
   "source": [
    "from sklearn.base import RegressorMixin\n",
    "\n",
    "\n",
    "class CityMeanRegressor(RegressorMixin):\n",
    "    def fit(self, X=None, y=None):\n",
    "        self.mskMean = np.mean(y[X.index[X.city == \"msk\"]])\n",
    "        self.spbMean = np.mean(y[X.index[X.city == \"spb\"]])\n",
    "\n",
    "    def predict(self, X=None):\n",
    "        ans = np.zeros((X.shape[0],))\n",
    "        ans[np.array(X.city == \"msk\")] = self.mskMean\n",
    "        ans[np.array(X.city == \"spb\")] = self.spbMean\n",
    "        return ans"
   ]
  },
  {
   "cell_type": "code",
   "execution_count": 99,
   "id": "0a3a5cf0-a166-4b3e-9606-0aa6a06aeb62",
   "metadata": {},
   "outputs": [
    {
     "name": "stdout",
     "output_type": "stream",
     "text": [
      "445.1063281403263\n"
     ]
    }
   ],
   "source": [
    "creg = CityMeanRegressor()\n",
    "creg.fit(\n",
    "    X=clean_data_train.drop(\"average_bill\", axis=1), y=clean_data_train[\"average_bill\"]\n",
    ")\n",
    "print(RMSE(clean_data_test, creg, target_test=\"average_bill\"))"
   ]
  },
  {
   "cell_type": "code",
   "execution_count": 11,
   "id": "c8ce1cf3-22d4-4c41-b692-6b61b2400ecb",
   "metadata": {},
   "outputs": [],
   "source": [
    "from collections import Counter as coll_Counter"
   ]
  },
  {
   "cell_type": "code",
   "execution_count": 30,
   "id": "3216f542-d517-4467-9408-64694ec295cf",
   "metadata": {},
   "outputs": [
    {
     "data": {
      "text/html": [
       "<div>\n",
       "<style scoped>\n",
       "    .dataframe tbody tr th:only-of-type {\n",
       "        vertical-align: middle;\n",
       "    }\n",
       "\n",
       "    .dataframe tbody tr th {\n",
       "        vertical-align: top;\n",
       "    }\n",
       "\n",
       "    .dataframe thead th {\n",
       "        text-align: right;\n",
       "    }\n",
       "</style>\n",
       "<table border=\"1\" class=\"dataframe\">\n",
       "  <thead>\n",
       "    <tr style=\"text-align: right;\">\n",
       "      <th></th>\n",
       "      <th>org_id</th>\n",
       "      <th>city</th>\n",
       "      <th>average_bill</th>\n",
       "      <th>rating</th>\n",
       "      <th>rubrics_id</th>\n",
       "      <th>features_id</th>\n",
       "    </tr>\n",
       "  </thead>\n",
       "  <tbody>\n",
       "    <tr>\n",
       "      <th>65841</th>\n",
       "      <td>14385912302763770021</td>\n",
       "      <td>spb</td>\n",
       "      <td>1000.0</td>\n",
       "      <td>4.748444</td>\n",
       "      <td>30776 30770 31401</td>\n",
       "      <td>[11177, 3501618484, 10462, 3501481355, 1509, 1...</td>\n",
       "    </tr>\n",
       "    <tr>\n",
       "      <th>48882</th>\n",
       "      <td>16695436192794975203</td>\n",
       "      <td>msk</td>\n",
       "      <td>500.0</td>\n",
       "      <td>3.793758</td>\n",
       "      <td>30771</td>\n",
       "      <td>[3501744275, 273469383, 3501513153, 11617, 104...</td>\n",
       "    </tr>\n",
       "    <tr>\n",
       "      <th>33711</th>\n",
       "      <td>11841431940065207518</td>\n",
       "      <td>msk</td>\n",
       "      <td>500.0</td>\n",
       "      <td>3.606557</td>\n",
       "      <td>30771 30777</td>\n",
       "      <td>[3501773763, 3501744275, 3501773764, 350161848...</td>\n",
       "    </tr>\n",
       "    <tr>\n",
       "      <th>33544</th>\n",
       "      <td>16028521499441205186</td>\n",
       "      <td>msk</td>\n",
       "      <td>2000.0</td>\n",
       "      <td>4.683841</td>\n",
       "      <td>30776</td>\n",
       "      <td>[3501618484, 20422, 1082283206, 11704, 11629, ...</td>\n",
       "    </tr>\n",
       "    <tr>\n",
       "      <th>35293</th>\n",
       "      <td>12477116204055673498</td>\n",
       "      <td>spb</td>\n",
       "      <td>500.0</td>\n",
       "      <td>4.165394</td>\n",
       "      <td>30776 31401 30770</td>\n",
       "      <td>[1524, 246, 11704, 1018, 3501618484, 202079552...</td>\n",
       "    </tr>\n",
       "  </tbody>\n",
       "</table>\n",
       "</div>"
      ],
      "text/plain": [
       "                     org_id city  average_bill    rating         rubrics_id  \\\n",
       "65841  14385912302763770021  spb        1000.0  4.748444  30776 30770 31401   \n",
       "48882  16695436192794975203  msk         500.0  3.793758              30771   \n",
       "33711  11841431940065207518  msk         500.0  3.606557        30771 30777   \n",
       "33544  16028521499441205186  msk        2000.0  4.683841              30776   \n",
       "35293  12477116204055673498  spb         500.0  4.165394  30776 31401 30770   \n",
       "\n",
       "                                             features_id  \n",
       "65841  [11177, 3501618484, 10462, 3501481355, 1509, 1...  \n",
       "48882  [3501744275, 273469383, 3501513153, 11617, 104...  \n",
       "33711  [3501773763, 3501744275, 3501773764, 350161848...  \n",
       "33544  [3501618484, 20422, 1082283206, 11704, 11629, ...  \n",
       "35293  [1524, 246, 11704, 1018, 3501618484, 202079552...  "
      ]
     },
     "execution_count": 30,
     "metadata": {},
     "output_type": "execute_result"
    }
   ],
   "source": [
    "join_rubrics = lambda x: \" \".join(x)\n",
    "clean_data_test[\"rubrics_id\"] = clean_data_test[\"rubrics_id\"].map(join_rubrics)\n",
    "clean_data_test.head()"
   ]
  },
  {
   "cell_type": "code",
   "execution_count": 170,
   "id": "5b2605e7-adfb-401c-863b-52d2101b1e68",
   "metadata": {},
   "outputs": [],
   "source": [
    "rubric_counts = pd.Series(coll_Counter(clean_data_train[\"rubrics_id\"]))"
   ]
  },
  {
   "cell_type": "code",
   "execution_count": 171,
   "id": "e6ff53ad-4c6a-4106-85f9-8e3ec1bce9fe",
   "metadata": {},
   "outputs": [],
   "source": [
    "clean_data_train[\"modified_rubrics\"] = clean_data_train[\"rubrics_id\"].copy()\n",
    "clean_data_train.loc[\n",
    "    (rubric_counts[clean_data_train.rubrics_id] < 100).values, \"modified_rubrics\"\n",
    "] = \"other\""
   ]
  },
  {
   "cell_type": "code",
   "execution_count": 172,
   "id": "62ea5cdb-6a02-477d-b00e-aad10133329d",
   "metadata": {},
   "outputs": [
    {
     "data": {
      "text/html": [
       "<div>\n",
       "<style scoped>\n",
       "    .dataframe tbody tr th:only-of-type {\n",
       "        vertical-align: middle;\n",
       "    }\n",
       "\n",
       "    .dataframe tbody tr th {\n",
       "        vertical-align: top;\n",
       "    }\n",
       "\n",
       "    .dataframe thead th {\n",
       "        text-align: right;\n",
       "    }\n",
       "</style>\n",
       "<table border=\"1\" class=\"dataframe\">\n",
       "  <thead>\n",
       "    <tr style=\"text-align: right;\">\n",
       "      <th></th>\n",
       "      <th>org_id</th>\n",
       "      <th>city</th>\n",
       "      <th>average_bill</th>\n",
       "      <th>rating</th>\n",
       "      <th>rubrics_id</th>\n",
       "      <th>features_id</th>\n",
       "      <th>modified_rubrics</th>\n",
       "    </tr>\n",
       "  </thead>\n",
       "  <tbody>\n",
       "    <tr>\n",
       "      <th>45769</th>\n",
       "      <td>3276960721840719260</td>\n",
       "      <td>msk</td>\n",
       "      <td>500.0</td>\n",
       "      <td>4.500000</td>\n",
       "      <td>30770</td>\n",
       "      <td>11704 20422 1018 11177 1416 11867 10462</td>\n",
       "      <td>30770</td>\n",
       "    </tr>\n",
       "    <tr>\n",
       "      <th>39061</th>\n",
       "      <td>8452997364765928283</td>\n",
       "      <td>msk</td>\n",
       "      <td>1500.0</td>\n",
       "      <td>4.442623</td>\n",
       "      <td>30774 30776</td>\n",
       "      <td>1415 3501481355 1416 11629 10462 1524 20422 11...</td>\n",
       "      <td>30774 30776</td>\n",
       "    </tr>\n",
       "    <tr>\n",
       "      <th>59281</th>\n",
       "      <td>14240408259222214074</td>\n",
       "      <td>spb</td>\n",
       "      <td>1000.0</td>\n",
       "      <td>4.018868</td>\n",
       "      <td>30776 30774</td>\n",
       "      <td>3502045032 11741 3502045016 10462 11704 350177...</td>\n",
       "      <td>30776 30774</td>\n",
       "    </tr>\n",
       "    <tr>\n",
       "      <th>51225</th>\n",
       "      <td>15114069072602161053</td>\n",
       "      <td>msk</td>\n",
       "      <td>1500.0</td>\n",
       "      <td>4.364742</td>\n",
       "      <td>31401 30776</td>\n",
       "      <td>3501513153 3501779478 3491142672 273469383 350...</td>\n",
       "      <td>other</td>\n",
       "    </tr>\n",
       "    <tr>\n",
       "      <th>29587</th>\n",
       "      <td>2730337118800634815</td>\n",
       "      <td>msk</td>\n",
       "      <td>1000.0</td>\n",
       "      <td>4.698718</td>\n",
       "      <td>30770</td>\n",
       "      <td>21247 10896 3491142672 11629 3501481353 350148...</td>\n",
       "      <td>30770</td>\n",
       "    </tr>\n",
       "  </tbody>\n",
       "</table>\n",
       "</div>"
      ],
      "text/plain": [
       "                     org_id city  average_bill    rating   rubrics_id  \\\n",
       "45769   3276960721840719260  msk         500.0  4.500000        30770   \n",
       "39061   8452997364765928283  msk        1500.0  4.442623  30774 30776   \n",
       "59281  14240408259222214074  spb        1000.0  4.018868  30776 30774   \n",
       "51225  15114069072602161053  msk        1500.0  4.364742  31401 30776   \n",
       "29587   2730337118800634815  msk        1000.0  4.698718        30770   \n",
       "\n",
       "                                             features_id modified_rubrics  \n",
       "45769            11704 20422 1018 11177 1416 11867 10462            30770  \n",
       "39061  1415 3501481355 1416 11629 10462 1524 20422 11...      30774 30776  \n",
       "59281  3502045032 11741 3502045016 10462 11704 350177...      30776 30774  \n",
       "51225  3501513153 3501779478 3491142672 273469383 350...            other  \n",
       "29587  21247 10896 3491142672 11629 3501481353 350148...            30770  "
      ]
     },
     "execution_count": 172,
     "metadata": {},
     "output_type": "execute_result"
    }
   ],
   "source": [
    "clean_data_train.head()"
   ]
  },
  {
   "cell_type": "code",
   "execution_count": 183,
   "id": "4cb8384e-0be8-4ed7-a873-1b86bf272c3a",
   "metadata": {},
   "outputs": [
    {
     "data": {
      "text/html": [
       "<div>\n",
       "<style scoped>\n",
       "    .dataframe tbody tr th:only-of-type {\n",
       "        vertical-align: middle;\n",
       "    }\n",
       "\n",
       "    .dataframe tbody tr th {\n",
       "        vertical-align: top;\n",
       "    }\n",
       "\n",
       "    .dataframe thead th {\n",
       "        text-align: right;\n",
       "    }\n",
       "</style>\n",
       "<table border=\"1\" class=\"dataframe\">\n",
       "  <thead>\n",
       "    <tr style=\"text-align: right;\">\n",
       "      <th></th>\n",
       "      <th>org_id</th>\n",
       "      <th>city</th>\n",
       "      <th>average_bill</th>\n",
       "      <th>rating</th>\n",
       "      <th>rubrics_id</th>\n",
       "      <th>features_id</th>\n",
       "      <th>modified_rubrics</th>\n",
       "    </tr>\n",
       "  </thead>\n",
       "  <tbody>\n",
       "    <tr>\n",
       "      <th>65841</th>\n",
       "      <td>14385912302763770021</td>\n",
       "      <td>spb</td>\n",
       "      <td>1000.0</td>\n",
       "      <td>4.748444</td>\n",
       "      <td>30776 30770 31401</td>\n",
       "      <td>11177 3501618484 10462 3501481355 1509 1416 20...</td>\n",
       "      <td>other</td>\n",
       "    </tr>\n",
       "    <tr>\n",
       "      <th>48882</th>\n",
       "      <td>16695436192794975203</td>\n",
       "      <td>msk</td>\n",
       "      <td>500.0</td>\n",
       "      <td>3.793758</td>\n",
       "      <td>30771</td>\n",
       "      <td>3501744275 273469383 3501513153 11617 10462 11...</td>\n",
       "      <td>30771</td>\n",
       "    </tr>\n",
       "    <tr>\n",
       "      <th>33711</th>\n",
       "      <td>11841431940065207518</td>\n",
       "      <td>msk</td>\n",
       "      <td>500.0</td>\n",
       "      <td>3.606557</td>\n",
       "      <td>30771 30777</td>\n",
       "      <td>3501773763 3501744275 3501773764 3501618484 15...</td>\n",
       "      <td>other</td>\n",
       "    </tr>\n",
       "    <tr>\n",
       "      <th>33544</th>\n",
       "      <td>16028521499441205186</td>\n",
       "      <td>msk</td>\n",
       "      <td>2000.0</td>\n",
       "      <td>4.683841</td>\n",
       "      <td>30776</td>\n",
       "      <td>3501618484 20422 1082283206 11704 11629 21247 ...</td>\n",
       "      <td>30776</td>\n",
       "    </tr>\n",
       "    <tr>\n",
       "      <th>35293</th>\n",
       "      <td>12477116204055673498</td>\n",
       "      <td>spb</td>\n",
       "      <td>500.0</td>\n",
       "      <td>4.165394</td>\n",
       "      <td>30776 31401 30770</td>\n",
       "      <td>1524 246 11704 1018 3501618484 2020795524 2124...</td>\n",
       "      <td>other</td>\n",
       "    </tr>\n",
       "    <tr>\n",
       "      <th>...</th>\n",
       "      <td>...</td>\n",
       "      <td>...</td>\n",
       "      <td>...</td>\n",
       "      <td>...</td>\n",
       "      <td>...</td>\n",
       "      <td>...</td>\n",
       "      <td>...</td>\n",
       "    </tr>\n",
       "    <tr>\n",
       "      <th>55337</th>\n",
       "      <td>9041226080397910513</td>\n",
       "      <td>msk</td>\n",
       "      <td>2500.0</td>\n",
       "      <td>4.408108</td>\n",
       "      <td>30776</td>\n",
       "      <td>11629 11704 10462 11617 3501744275 20424 35017...</td>\n",
       "      <td>30776</td>\n",
       "    </tr>\n",
       "    <tr>\n",
       "      <th>64048</th>\n",
       "      <td>14998683880343589209</td>\n",
       "      <td>msk</td>\n",
       "      <td>1000.0</td>\n",
       "      <td>3.555556</td>\n",
       "      <td>30776</td>\n",
       "      <td>273469383 20424 20422 246 1416 11867 11629 104...</td>\n",
       "      <td>30776</td>\n",
       "    </tr>\n",
       "    <tr>\n",
       "      <th>22010</th>\n",
       "      <td>1621254442333414922</td>\n",
       "      <td>msk</td>\n",
       "      <td>2000.0</td>\n",
       "      <td>4.402516</td>\n",
       "      <td>30776</td>\n",
       "      <td>273469383 21247 11867 1082283206 20422 246 101...</td>\n",
       "      <td>30776</td>\n",
       "    </tr>\n",
       "    <tr>\n",
       "      <th>40089</th>\n",
       "      <td>5620614742257813954</td>\n",
       "      <td>msk</td>\n",
       "      <td>500.0</td>\n",
       "      <td>NaN</td>\n",
       "      <td>30771</td>\n",
       "      <td>11704 1018 273469383 10462 20422</td>\n",
       "      <td>30771</td>\n",
       "    </tr>\n",
       "    <tr>\n",
       "      <th>32180</th>\n",
       "      <td>11624301828012509826</td>\n",
       "      <td>spb</td>\n",
       "      <td>500.0</td>\n",
       "      <td>4.250000</td>\n",
       "      <td>30774</td>\n",
       "      <td>246 11867 1018 1415 1416 1524 10462 1509 11617...</td>\n",
       "      <td>30774</td>\n",
       "    </tr>\n",
       "  </tbody>\n",
       "</table>\n",
       "<p>10605 rows × 7 columns</p>\n",
       "</div>"
      ],
      "text/plain": [
       "                     org_id city  average_bill    rating         rubrics_id  \\\n",
       "65841  14385912302763770021  spb        1000.0  4.748444  30776 30770 31401   \n",
       "48882  16695436192794975203  msk         500.0  3.793758              30771   \n",
       "33711  11841431940065207518  msk         500.0  3.606557        30771 30777   \n",
       "33544  16028521499441205186  msk        2000.0  4.683841              30776   \n",
       "35293  12477116204055673498  spb         500.0  4.165394  30776 31401 30770   \n",
       "...                     ...  ...           ...       ...                ...   \n",
       "55337   9041226080397910513  msk        2500.0  4.408108              30776   \n",
       "64048  14998683880343589209  msk        1000.0  3.555556              30776   \n",
       "22010   1621254442333414922  msk        2000.0  4.402516              30776   \n",
       "40089   5620614742257813954  msk         500.0       NaN              30771   \n",
       "32180  11624301828012509826  spb         500.0  4.250000              30774   \n",
       "\n",
       "                                             features_id modified_rubrics  \n",
       "65841  11177 3501618484 10462 3501481355 1509 1416 20...            other  \n",
       "48882  3501744275 273469383 3501513153 11617 10462 11...            30771  \n",
       "33711  3501773763 3501744275 3501773764 3501618484 15...            other  \n",
       "33544  3501618484 20422 1082283206 11704 11629 21247 ...            30776  \n",
       "35293  1524 246 11704 1018 3501618484 2020795524 2124...            other  \n",
       "...                                                  ...              ...  \n",
       "55337  11629 11704 10462 11617 3501744275 20424 35017...            30776  \n",
       "64048  273469383 20424 20422 246 1416 11867 11629 104...            30776  \n",
       "22010  273469383 21247 11867 1082283206 20422 246 101...            30776  \n",
       "40089                   11704 1018 273469383 10462 20422            30771  \n",
       "32180  246 11867 1018 1415 1416 1524 10462 1509 11617...            30774  \n",
       "\n",
       "[10605 rows x 7 columns]"
      ]
     },
     "execution_count": 183,
     "metadata": {},
     "output_type": "execute_result"
    }
   ],
   "source": [
    "clean_data_test[\"modified_rubrics\"] = clean_data_test[\"rubrics_id\"].copy()\n",
    "clean_data_test.loc[\n",
    "    ~clean_data_test.rubrics_id.isin(clean_data_train.modified_rubrics),\n",
    "    \"modified_rubrics\",\n",
    "] = \"other\"\n",
    "clean_data_test[:]"
   ]
  },
  {
   "cell_type": "code",
   "execution_count": 182,
   "id": "c2557f2f-4f47-4134-9055-5f62bcaa622f",
   "metadata": {
    "scrolled": true
   },
   "outputs": [
    {
     "data": {
      "text/plain": [
       "city  modified_rubrics\n",
       "msk   30519                500.0\n",
       "      30770                500.0\n",
       "      30770 30774          500.0\n",
       "      30770 30776         1000.0\n",
       "      30771                500.0\n",
       "      30771 30774          500.0\n",
       "      30771 30776          500.0\n",
       "      30774                500.0\n",
       "      30774 30770         1000.0\n",
       "      30774 30771          500.0\n",
       "      30774 30776         1000.0\n",
       "      30774 30777          500.0\n",
       "      30774 31495          500.0\n",
       "      30775                500.0\n",
       "      30776               1500.0\n",
       "      30776 30770         1000.0\n",
       "      30776 30771          500.0\n",
       "      30776 30774         1000.0\n",
       "      30776 31375          500.0\n",
       "      30777                500.0\n",
       "      30777 30774          500.0\n",
       "      31350                500.0\n",
       "      31375                500.0\n",
       "      31375 30776         1000.0\n",
       "      31401               1000.0\n",
       "      31495                500.0\n",
       "      31495 30774          500.0\n",
       "      other                500.0\n",
       "spb   30519                500.0\n",
       "      30770                500.0\n",
       "      30770 30774          500.0\n",
       "      30770 30776          500.0\n",
       "      30771                500.0\n",
       "      30771 30774          500.0\n",
       "      30771 30776          500.0\n",
       "      30774                500.0\n",
       "      30774 30770          500.0\n",
       "      30774 30771          500.0\n",
       "      30774 30776         1000.0\n",
       "      30774 30777          500.0\n",
       "      30774 31495          500.0\n",
       "      30775                500.0\n",
       "      30776               1000.0\n",
       "      30776 30770          500.0\n",
       "      30776 30771          500.0\n",
       "      30776 30774          500.0\n",
       "      30776 31375          500.0\n",
       "      30777                500.0\n",
       "      30777 30774          500.0\n",
       "      31350                500.0\n",
       "      31375                500.0\n",
       "      31375 30776         1000.0\n",
       "      31401                500.0\n",
       "      31495                500.0\n",
       "      31495 30774          500.0\n",
       "      other                500.0\n",
       "Name: average_bill, dtype: float64"
      ]
     },
     "execution_count": 182,
     "metadata": {},
     "output_type": "execute_result"
    }
   ],
   "source": [
    "clean_data_test.groupby([\"city\", \"modified_rubrics\"])[\"average_bill\"].median()"
   ]
  },
  {
   "cell_type": "code",
   "execution_count": 187,
   "id": "b6c7eb52-d359-4127-ac17-f48c89e85014",
   "metadata": {},
   "outputs": [],
   "source": [
    "from sklearn.base import ClassifierMixin\n",
    "\n",
    "\n",
    "class RubricCityMedianClassifier(ClassifierMixin):\n",
    "    def fit(self, X=None, y=None):\n",
    "        self.medians = X.groupby([\"city\", \"modified_rubrics\"])[\"average_bill\"].median()\n",
    "\n",
    "    def predict(self, X=None):\n",
    "        return X.drop(columns=[\"average_bill\"]).merge(\n",
    "            self.medians,\n",
    "            how=\"left\",\n",
    "            left_on=[\"city\", \"modified_rubrics\"],\n",
    "            right_index=True,\n",
    "        )[\"average_bill\"]"
   ]
  },
  {
   "cell_type": "code",
   "execution_count": 188,
   "id": "55692b00-ea54-4e03-95b2-906d1d2c75e2",
   "metadata": {},
   "outputs": [],
   "source": [
    "RCMC = RubricCityMedianClassifier()\n",
    "RCMC.fit(X=clean_data_train, y=clean_data_train[\"average_bill\"])"
   ]
  },
  {
   "cell_type": "code",
   "execution_count": 189,
   "id": "c06b1c03-c98f-4a9d-866f-e512f4a1bcd7",
   "metadata": {},
   "outputs": [
    {
     "data": {
      "text/plain": [
       "65841     500.0\n",
       "48882     500.0\n",
       "33711     500.0\n",
       "33544    1500.0\n",
       "35293     500.0\n",
       "          ...  \n",
       "55337    1500.0\n",
       "64048    1500.0\n",
       "22010    1500.0\n",
       "40089     500.0\n",
       "32180     500.0\n",
       "Name: average_bill, Length: 10605, dtype: float64"
      ]
     },
     "execution_count": 189,
     "metadata": {},
     "output_type": "execute_result"
    }
   ],
   "source": [
    "RCMC.predict(X=clean_data_test)"
   ]
  },
  {
   "cell_type": "code",
   "execution_count": 215,
   "id": "7e5449d4-9fcb-4324-9227-20ca1935895b",
   "metadata": {},
   "outputs": [
    {
     "data": {
      "text/plain": [
       "0.30552511833185647"
      ]
     },
     "execution_count": 215,
     "metadata": {},
     "output_type": "execute_result"
    }
   ],
   "source": [
    "sklearn.metrics.balanced_accuracy_score(\n",
    "    clean_data_test[\"average_bill\"].values, RCMC.predict(X=clean_data_test)\n",
    ")"
   ]
  },
  {
   "cell_type": "code",
   "execution_count": 192,
   "id": "8d698145-be49-48e5-a349-5fa2e6c1a4b9",
   "metadata": {},
   "outputs": [
    {
     "name": "stdout",
     "output_type": "stream",
     "text": [
      "393.96675836287915\n"
     ]
    }
   ],
   "source": [
    "print(RMSE(clean_data_test, RCMC, target_test=\"average_bill\"))"
   ]
  },
  {
   "cell_type": "code",
   "execution_count": null,
   "id": "0acfaea2-42ce-4296-ae58-46b2f1f9c382",
   "metadata": {},
   "outputs": [],
   "source": []
  }
 ],
 "metadata": {
  "kernelspec": {
   "display_name": "Python 3 (ipykernel)",
   "language": "python",
   "name": "python3"
  },
  "language_info": {
   "codemirror_mode": {
    "name": "ipython",
    "version": 3
   },
   "file_extension": ".py",
   "mimetype": "text/x-python",
   "name": "python",
   "nbconvert_exporter": "python",
   "pygments_lexer": "ipython3",
   "version": "3.12.3"
  }
 },
 "nbformat": 4,
 "nbformat_minor": 5
}
